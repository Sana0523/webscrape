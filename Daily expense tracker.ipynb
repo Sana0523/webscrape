{
 "cells": [
  {
   "cell_type": "code",
   "execution_count": 1,
   "id": "5d251d23",
   "metadata": {},
   "outputs": [
    {
     "name": "stdout",
     "output_type": "stream",
     "text": [
      "    Housing\n",
      "    Food\n",
      "    Transportation\n",
      "    Health\n",
      "    Entertainment\n",
      "    Savings\n",
      "    Clothing and Personal Care\n",
      "Enter category name:\n",
      "Housing\n"
     ]
    }
   ],
   "source": [
    "import pandas as pd\n",
    "import csv\n",
    "import os\n",
    "header=[\"Category\",\"Description\",\"Amount\"]\n",
    "with open(\"daily_expense.csv\",mode=\"w\",newline=\"\") as file:\n",
    "    writer=csv.DictWriter(file,fieldnames=header)\n",
    "    writer.writeheader()\n",
    "    print(\"\"\"    Housing\n",
    "    Food\n",
    "    Transportation\n",
    "    Health\n",
    "    Entertainment\n",
    "    Savings\n",
    "    Clothing and Personal Care\"\"\")\n",
    "    print(\"Enter category name:\")\n",
    "    cat=input()\n",
    "    "
   ]
  },
  {
   "cell_type": "code",
   "execution_count": null,
   "id": "ce591b58",
   "metadata": {},
   "outputs": [],
   "source": []
  },
  {
   "cell_type": "code",
   "execution_count": 9,
   "id": "9854eed4",
   "metadata": {},
   "outputs": [],
   "source": [
    "import pandas as pd\n",
    "import csv\n",
    "import os\n",
    "from tabulate import tabulate\n",
    "FILE_NAME=\"daily_expense.csv\"\n",
    "def load_expenses():\n",
    "    if os.path.exists(FILE_NAME):\n",
    "        return pd.read_csv(FILE_NAME)\n",
    "    else:\n",
    "        return pd.DataFrame(columns=[\"Date\",\"Category\",\"Amount\",\"Description\"])\n",
    "def add_expense():\n",
    "    df=load_expenses()\n",
    "    date=input(\"Enter date (YYYY-MM-DD) or enter for today\")\n",
    "    if not date:\n",
    "        date=datetime.datetime.today().strftime(\"%Y-%m-%d\")\n",
    "    category=input(\"Enter Category (Food,Transportation,Health,...)\")\n",
    "    amount=float(input(\"Enter Amount\"))\n",
    "    description=input(\"Enter Description\")\n",
    "    data={\n",
    "        \"Date\":[date],\n",
    "        \"Category\":[category],\n",
    "        \"Amount\":[amount],\n",
    "        \"Description\":[description]\n",
    "    }\n",
    "    details=pd.DataFrame(data)\n",
    "    df=pd.concat([df,details],ignore_index=True)\n",
    "    df.to_csv(FILE_NAME,index=False)\n",
    "    print(\"Expenses added Sucessfully!!\")\n",
    "    \n",
    "def view_expenses():\n",
    "    df=load_expenses()\n",
    "    if df.empty:\n",
    "        print(\"No expenses recoreded.!\")\n",
    "        return\n",
    "    print(tabulate(df,headers=list(df.columns)))\n",
    "    "
   ]
  },
  {
   "cell_type": "code",
   "execution_count": 10,
   "id": "09bbec52",
   "metadata": {},
   "outputs": [],
   "source": [
    "import matplotlib.pyplot as plt\n",
    "def daily_summary():\n",
    "    df=load_expenses()\n",
    "    if df.empty:\n",
    "        print(\"No Expenses recorded yet!\")\n",
    "        return\n",
    "    date=input(\"Enter date: or press Enter for today\")\n",
    "    if not date:\n",
    "        date=datetime.datetime.today().strftime(\"%Y-%m-%d\")\n",
    "    data=df[df[\"Date\"]==date]\n",
    "    total=data[\"Amount\"].sum()\n",
    "    if data.empty:\n",
    "        print(f\"No data recorded for {date}\")\n",
    "        return\n",
    "    else:\n",
    "        print(\"DAILY SUMMARY\")\n",
    "        print(data.to_string(index=False))\n",
    "        print(f\"Total Amount spent {total}\")\n",
    "        sum=data.groupby(\"Category\")[\"Amount\"].sum()\n",
    "        print(sum)\n",
    "        plt.figure(fig)\n",
    "        \n",
    "def monthly_summary():\n",
    "    df=load_expenses()\n",
    "    if df.empty:\n",
    "        print(\"No Expenses recorded yet!\")\n",
    "        return\n",
    "    df[\"Month\"]=pd.to_datetime(df[\"Date\"]).dt.to_period(\"M\")\n",
    "    monthly_sum=df.groupby(\"Month\")[\"Amount\"].sum()\n",
    "    print(monthly_sum)\n",
    "    "
   ]
  },
  {
   "cell_type": "code",
   "execution_count": 11,
   "id": "9fee8a06",
   "metadata": {},
   "outputs": [
    {
     "name": "stdout",
     "output_type": "stream",
     "text": [
      "\t\t\tExpense tracker Menu\n",
      "1:Add Expense\n",
      "2:View All Expenses\n",
      "3:View Daily Expense Summary\n",
      "4:View Monthly Summary\n",
      "5:Exit\n",
      "2\n",
      "    Date        Category      Amount  Description\n",
      "--  ----------  ----------  --------  -------------\n",
      " 0  2024-11-27  Food              30  Snacks\n",
      " 1  2024-11-27  Transport        110  Petrol\n",
      " 2  2024-11-14  Food             250  Lunch\n",
      "\t\t\tExpense tracker Menu\n",
      "1:Add Expense\n",
      "2:View All Expenses\n",
      "3:View Daily Expense Summary\n",
      "4:View Monthly Summary\n",
      "5:Exit\n",
      "5\n",
      "Exiting... Goodbye!\n"
     ]
    }
   ],
   "source": [
    "import pandas as pd\n",
    "import csv\n",
    "import os\n",
    "import datetime\n",
    "while True:\n",
    "    print(\"\\t\\t\\tExpense tracker Menu\")\n",
    "    print(\"1:Add Expense\")\n",
    "    print(\"2:View All Expenses\")\n",
    "    print(\"3:View Daily Expense Summary\")\n",
    "    print(\"4:View Monthly Summary\")\n",
    "    print(\"5:Exit\")\n",
    "    choice=input()\n",
    "    if choice == '1':\n",
    "            add_expense()\n",
    "    elif choice == '2':\n",
    "        view_expenses()\n",
    "    elif choice == '3':\n",
    "        daily_summary()\n",
    "    elif choice == '4':\n",
    "        monthly_summary()\n",
    "    elif choice == '5':\n",
    "        print(\"Exiting... Goodbye!\")\n",
    "        break\n",
    "    else:\n",
    "        print(\"Invalid choice. Please try again.\")"
   ]
  },
  {
   "cell_type": "code",
   "execution_count": 10,
   "id": "391e20c4",
   "metadata": {},
   "outputs": [
    {
     "name": "stdout",
     "output_type": "stream",
     "text": [
      "5\n"
     ]
    }
   ],
   "source": [
    "date=int(input())\n",
    "category=\"Food\"\n",
    "amount=300\n",
    "description=\"kdjfdf fkj\"\n",
    "details=pd.DataFrame([[date,category,amount,description]],columns=[\"Date\",\"Category\",\"Amount\",\"Description\"])"
   ]
  },
  {
   "cell_type": "code",
   "execution_count": 11,
   "id": "9591615e",
   "metadata": {},
   "outputs": [
    {
     "data": {
      "text/html": [
       "<div>\n",
       "<style scoped>\n",
       "    .dataframe tbody tr th:only-of-type {\n",
       "        vertical-align: middle;\n",
       "    }\n",
       "\n",
       "    .dataframe tbody tr th {\n",
       "        vertical-align: top;\n",
       "    }\n",
       "\n",
       "    .dataframe thead th {\n",
       "        text-align: right;\n",
       "    }\n",
       "</style>\n",
       "<table border=\"1\" class=\"dataframe\">\n",
       "  <thead>\n",
       "    <tr style=\"text-align: right;\">\n",
       "      <th></th>\n",
       "      <th>Date</th>\n",
       "      <th>Category</th>\n",
       "      <th>Amount</th>\n",
       "      <th>Description</th>\n",
       "    </tr>\n",
       "  </thead>\n",
       "  <tbody>\n",
       "    <tr>\n",
       "      <th>0</th>\n",
       "      <td>5</td>\n",
       "      <td>Food</td>\n",
       "      <td>300</td>\n",
       "      <td>kdjfdf fkj</td>\n",
       "    </tr>\n",
       "  </tbody>\n",
       "</table>\n",
       "</div>"
      ],
      "text/plain": [
       "   Date Category  Amount Description\n",
       "0     5     Food     300  kdjfdf fkj"
      ]
     },
     "execution_count": 11,
     "metadata": {},
     "output_type": "execute_result"
    }
   ],
   "source": [
    "details"
   ]
  },
  {
   "cell_type": "code",
   "execution_count": 17,
   "id": "d95c7663",
   "metadata": {},
   "outputs": [],
   "source": [
    "import datetime\n",
    "date=datetime.datetime.today().strftime(\"%Y-%m-%d\")"
   ]
  },
  {
   "cell_type": "code",
   "execution_count": 18,
   "id": "04b5d805",
   "metadata": {},
   "outputs": [
    {
     "data": {
      "text/plain": [
       "'2024-11-26'"
      ]
     },
     "execution_count": 18,
     "metadata": {},
     "output_type": "execute_result"
    }
   ],
   "source": [
    "date"
   ]
  },
  {
   "cell_type": "code",
   "execution_count": 19,
   "id": "09d3ca57",
   "metadata": {},
   "outputs": [
    {
     "name": "stdout",
     "output_type": "stream",
     "text": [
      " Date Category  Amount Description\n",
      "    5     Food     300  kdjfdf fkj\n"
     ]
    }
   ],
   "source": [
    "print(details.to_string(index=False))"
   ]
  },
  {
   "cell_type": "code",
   "execution_count": null,
   "id": "9487287d",
   "metadata": {},
   "outputs": [],
   "source": []
  }
 ],
 "metadata": {
  "kernelspec": {
   "display_name": "Python 3 (ipykernel)",
   "language": "python",
   "name": "python3"
  },
  "language_info": {
   "codemirror_mode": {
    "name": "ipython",
    "version": 3
   },
   "file_extension": ".py",
   "mimetype": "text/x-python",
   "name": "python",
   "nbconvert_exporter": "python",
   "pygments_lexer": "ipython3",
   "version": "3.11.5"
  }
 },
 "nbformat": 4,
 "nbformat_minor": 5
}
